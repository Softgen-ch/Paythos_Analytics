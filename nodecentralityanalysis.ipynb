{
 "cells": [
  {
   "cell_type": "code",
   "execution_count": 34,
   "metadata": {},
   "outputs": [],
   "source": [
    "import json\n",
    "from algosdk.v2client import indexer\n",
    "import networkx as nx\n",
    "import matplotlib.pyplot as plt\n",
    "\n",
    "# Connect to the Algorand Indexer\n",
    "indexer_address = \"https://mainnet-idx.algonode.cloud\"\n",
    "indexer_client = indexer.IndexerClient(\"\", indexer_address)"
   ]
  },
  {
   "cell_type": "code",
   "execution_count": 35,
   "metadata": {},
   "outputs": [],
   "source": [
    "def get_current_round():\n",
    "    current_round = indexer_client.health().get(\"round\")\n",
    "    data = current_round\n",
    "    return data\n",
    "\n"
   ]
  },
  {
   "cell_type": "code",
   "execution_count": 37,
   "metadata": {},
   "outputs": [],
   "source": [
    "\n",
    "def fetch_transactions(min_round, max_round, limit=1000):\n",
    "    transactions = []\n",
    "    next_token = None\n",
    "    while True:\n",
    "        try:\n",
    "            response = indexer_client.search_transactions(min_round=min_round, max_round=max_round, limit=limit, next_page=next_token)\n",
    "            transactions_batch = response.get('transactions', [])\n",
    "            transactions.extend(transactions_batch)\n",
    "            next_token = response.get('next-token', None)\n",
    "            if next_token is None or not transactions_batch:\n",
    "                break\n",
    "        except Exception as e:\n",
    "            print(f\"An error occurred: {e}\")\n",
    "            break\n",
    "    return transactions\n",
    "\n",
    "# Fetch transactions from round x to the current round\n",
    "# 60 / 3.6 = 16.6666 transactions per minute based on the 3.6s block time we round down to 15\n",
    "# 15 * 60 * 24 = 21600 transactions per day\n",
    "transactions = fetch_transactions(get_current_round() - (20*21600), get_current_round())\n",
    "len(transactions)"
   ]
  },
  {
   "cell_type": "code",
   "execution_count": null,
   "metadata": {},
   "outputs": [],
   "source": [
    "import networkx as nx\n",
    "\n",
    "def build_network(transactions):\n",
    "    G = nx.DiGraph()  # Directed graph to capture the direction of transactions\n",
    "\n",
    "    for txn in transactions:\n",
    "        sender = txn.get('sender')\n",
    "        receiver = txn.get('payment-transaction', {}).get('receiver')\n",
    "\n",
    "        if sender and receiver:\n",
    "            if G.has_edge(sender, receiver):\n",
    "                G[sender][receiver]['weight'] += 1\n",
    "            else:\n",
    "                G.add_edge(sender, receiver, weight=1)\n",
    "\n",
    "    return G\n",
    "\n",
    "G = build_network(transactions)\n"
   ]
  },
  {
   "cell_type": "code",
   "execution_count": null,
   "metadata": {},
   "outputs": [
    {
     "name": "stdout",
     "output_type": "stream",
     "text": [
      "Top 5 nodes by degree centrality:\n",
      "[('5SFNTQF5WA7GWS5RQEDZRNQ22GTAPBTLGIQDOBKOSWVT7YOOVKHVMC4Q4U', 0.7184945410654523), ('YHIYCCBE3Y72Z5DIHQFBBPL4PN2PJ7OWXEE53XYPAR7EETR5GQV4UHFHOE', 0.23470675371701322), ('WARN666I6ITOTBIFMYOOYDAT2JA63QQO2Y6MJCNER5YAF4L6MQO7W6SCAM', 0.1574587150929939), ('SOW7AR64EL3Q6PUJRRDSC6ESMZGTK2IFYMHQL7GV377FWIYDUWU47YOHZQ', 0.07011576233060843), ('JO4JVOKMLVNGF3YKB6OCP4JPLT6TQJ4QRWQ4CVWPQAZP735LD4APX5IORU', 0.0700883304987107)]\n",
      "\n",
      "Top 5 nodes by betweenness centrality:\n",
      "[('5SFNTQF5WA7GWS5RQEDZRNQ22GTAPBTLGIQDOBKOSWVT7YOOVKHVMC4Q4U', 0.08716740348674003), ('YHIYCCBE3Y72Z5DIHQFBBPL4PN2PJ7OWXEE53XYPAR7EETR5GQV4UHFHOE', 0.013768966024895449), ('QYXDGS2XJJT7QNR6EJ2YHNZFONU6ROFM6BKTBNVT63ZXQ5OC6IYSPNDJ4U', 0.002114329726266206), ('5GW5VO4JNTHXVH2DYV7HAKBKGQFSCAI4MBUD5EN3FLBGLF4KKRXJE24ASI', 0.0010227409544237133), ('LWUWBZPVBS24TDBDZ72LUYJJF75KUJ3IUP6YGG45PVKGNAJYRGQD5CSCPA', 0.0007561521299017752)]\n",
      "\n",
      "Top 5 nodes by closeness centrality:\n",
      "[('5SFNTQF5WA7GWS5RQEDZRNQ22GTAPBTLGIQDOBKOSWVT7YOOVKHVMC4Q4U', 0.15457837274373182), ('YHIYCCBE3Y72Z5DIHQFBBPL4PN2PJ7OWXEE53XYPAR7EETR5GQV4UHFHOE', 0.11746310418609755), ('FTPJXUQMYLNUNKBGSENAC3ENSLTBEQ5FMWIOJ35MP2LNJVXEQYF72BVNTM', 0.07735091346880851), ('DCAOFZ4RWUTELBXLKHCGP3ZER6Z4YQWOYX22X2PY326I5ZWOD3QMGZMNNI', 0.07730976085424969), ('D5GK5J3Y5SROEOVILCDS3YZQDHHTGT5DLSQZCVH5XLJLIVDUJFP3COXBVY', 0.07730976085424969)]\n",
      "\n",
      "Top 5 nodes by eigenvector centrality:\n",
      "[('5SFNTQF5WA7GWS5RQEDZRNQ22GTAPBTLGIQDOBKOSWVT7YOOVKHVMC4Q4U', 0.4636771590636962), ('DCAOFZ4RWUTELBXLKHCGP3ZER6Z4YQWOYX22X2PY326I5ZWOD3QMGZMNNI', 0.006179536850780974), ('D5GK5J3Y5SROEOVILCDS3YZQDHHTGT5DLSQZCVH5XLJLIVDUJFP3COXBVY', 0.006179536850780974), ('Y3HECQUWK34S73VLTPUI77O5OPF5ONNLWILUNWKPC5QWZ64Z5WD7LDXCBY', 0.006179536850780974), ('MSYK5U7Z4ZINH2T5KUV5VSTPLQU37CIX5SUOCTFLN2TVJYOEFLRR5M75NE', 0.006179536850780974)]\n"
     ]
    }
   ],
   "source": [
    "# Compute centrality measures\n",
    "degree_centrality = nx.degree_centrality(G)\n",
    "betweenness_centrality = nx.betweenness_centrality(G, weight='weight')\n",
    "closeness_centrality = nx.closeness_centrality(G)\n",
    "eigenvector_centrality = nx.eigenvector_centrality(G, max_iter=1000)\n",
    "\n",
    "# Print the top 5 nodes for each centrality measure\n",
    "print(\"Top 5 nodes by degree centrality:\")\n",
    "print(sorted(degree_centrality.items(), key=lambda x: x[1], reverse=True)[:5])\n",
    "\n",
    "print(\"\\nTop 5 nodes by betweenness centrality:\")\n",
    "print(sorted(betweenness_centrality.items(), key=lambda x: x[1], reverse=True)[:5])\n",
    "\n",
    "print(\"\\nTop 5 nodes by closeness centrality:\")\n",
    "print(sorted(closeness_centrality.items(), key=lambda x: x[1], reverse=True)[:5])\n",
    "\n",
    "print(\"\\nTop 5 nodes by eigenvector centrality:\")\n",
    "print(sorted(eigenvector_centrality.items(), key=lambda x: x[1], reverse=True)[:5])\n"
   ]
  }
 ],
 "metadata": {
  "kernelspec": {
   "display_name": ".venv",
   "language": "python",
   "name": "python3"
  },
  "language_info": {
   "codemirror_mode": {
    "name": "ipython",
    "version": 3
   },
   "file_extension": ".py",
   "mimetype": "text/x-python",
   "name": "python",
   "nbconvert_exporter": "python",
   "pygments_lexer": "ipython3",
   "version": "3.10.9"
  }
 },
 "nbformat": 4,
 "nbformat_minor": 2
}
