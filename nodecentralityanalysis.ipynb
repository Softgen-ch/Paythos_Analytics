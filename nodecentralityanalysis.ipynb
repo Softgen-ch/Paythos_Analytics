{
 "cells": [
  {
   "cell_type": "code",
   "execution_count": null,
   "metadata": {},
   "outputs": [],
   "source": [
    "import json\n",
    "from algosdk.v2client import indexer\n",
    "import networkx as nx\n",
    "import matplotlib.pyplot as plt\n",
    "\n",
    "# Connect to the Algorand Indexer\n",
    "indexer_address = \"https://mainnet-idx.algonode.cloud\"\n",
    "indexer_client = indexer.IndexerClient(\"\", indexer_address)"
   ]
  },
  {
   "cell_type": "code",
   "execution_count": null,
   "metadata": {},
   "outputs": [],
   "source": [
    "def get_current_round():\n",
    "    current_round = indexer_client.health().get(\"round\")\n",
    "    data = current_round\n",
    "    return data\n",
    "\n"
   ]
  },
  {
   "cell_type": "code",
   "execution_count": null,
   "metadata": {},
   "outputs": [],
   "source": [
    "\n",
    "def fetch_transactions(min_round, max_round, limit=1000):\n",
    "    transactions = []\n",
    "    next_token = None\n",
    "    while True:\n",
    "        try:\n",
    "            response = indexer_client.search_transactions(min_round=min_round, max_round=max_round, limit=limit, next_page=next_token)\n",
    "            transactions_batch = response.get('transactions', [])\n",
    "            transactions.extend(transactions_batch)\n",
    "            next_token = response.get('next-token', None)\n",
    "            if next_token is None or not transactions_batch:\n",
    "                break\n",
    "        except Exception as e:\n",
    "            print(f\"An error occurred: {e}\")\n",
    "            break\n",
    "    return transactions\n",
    "\n",
    "# Fetch transactions from round x to the current round\n",
    "\n",
    "transactions = fetch_transactions(get_current_round() - 1500, get_current_round())\n",
    "len(transactions)"
   ]
  },
  {
   "cell_type": "code",
   "execution_count": null,
   "metadata": {},
   "outputs": [],
   "source": [
    "import networkx as nx\n",
    "\n",
    "def build_network(transactions):\n",
    "    G = nx.DiGraph()  # Directed graph to capture the direction of transactions\n",
    "\n",
    "    for txn in transactions:\n",
    "        sender = txn.get('sender')\n",
    "        receiver = txn.get('payment-transaction', {}).get('receiver')\n",
    "\n",
    "        if sender and receiver:\n",
    "            if G.has_edge(sender, receiver):\n",
    "                G[sender][receiver]['weight'] += 1\n",
    "            else:\n",
    "                G.add_edge(sender, receiver, weight=1)\n",
    "\n",
    "    return G\n",
    "\n",
    "G = build_network(transactions)\n"
   ]
  },
  {
   "cell_type": "code",
   "execution_count": null,
   "metadata": {},
   "outputs": [],
   "source": [
    "# Compute centrality measures\n",
    "degree_centrality = nx.degree_centrality(G)\n",
    "betweenness_centrality = nx.betweenness_centrality(G, weight='weight')\n",
    "closeness_centrality = nx.closeness_centrality(G)\n",
    "eigenvector_centrality = nx.eigenvector_centrality(G, max_iter=1000)\n",
    "\n",
    "# Print the top 5 nodes for each centrality measure\n",
    "print(\"Top 5 nodes by degree centrality:\")\n",
    "print(sorted(degree_centrality.items(), key=lambda x: x[1], reverse=True)[:5])\n",
    "\n",
    "print(\"\\nTop 5 nodes by betweenness centrality:\")\n",
    "print(sorted(betweenness_centrality.items(), key=lambda x: x[1], reverse=True)[:5])\n",
    "\n",
    "print(\"\\nTop 5 nodes by closeness centrality:\")\n",
    "print(sorted(closeness_centrality.items(), key=lambda x: x[1], reverse=True)[:5])\n",
    "\n",
    "print(\"\\nTop 5 nodes by eigenvector centrality:\")\n",
    "print(sorted(eigenvector_centrality.items(), key=lambda x: x[1], reverse=True)[:5])\n"
   ]
  }
 ],
 "metadata": {
  "kernelspec": {
   "display_name": ".venv",
   "language": "python",
   "name": "python3"
  },
  "language_info": {
   "codemirror_mode": {
    "name": "ipython",
    "version": 3
   },
   "file_extension": ".py",
   "mimetype": "text/x-python",
   "name": "python",
   "nbconvert_exporter": "python",
   "pygments_lexer": "ipython3",
   "version": "3.10.9"
  }
 },
 "nbformat": 4,
 "nbformat_minor": 2
}
