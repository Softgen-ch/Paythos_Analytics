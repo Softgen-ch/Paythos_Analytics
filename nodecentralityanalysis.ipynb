{
 "cells": [
  {
   "cell_type": "code",
   "execution_count": 4,
   "metadata": {},
   "outputs": [],
   "source": [
    "import json\n",
    "from algosdk.v2client import indexer\n",
    "import networkx as nx\n",
    "import matplotlib.pyplot as plt\n",
    "\n",
    "# Connect to the Algorand Indexer\n",
    "indexer_address = \"https://mainnet-idx.algonode.cloud\"\n",
    "indexer_client = indexer.IndexerClient(\"\", indexer_address)"
   ]
  },
  {
   "cell_type": "code",
   "execution_count": 5,
   "metadata": {},
   "outputs": [],
   "source": [
    "def get_current_round():\n",
    "    current_round = indexer_client.health().get(\"round\")\n",
    "    data = current_round\n",
    "    return data\n",
    "\n"
   ]
  },
  {
   "cell_type": "code",
   "execution_count": 9,
   "metadata": {},
   "outputs": [
    {
     "data": {
      "text/plain": [
       "112"
      ]
     },
     "execution_count": 9,
     "metadata": {},
     "output_type": "execute_result"
    }
   ],
   "source": [
    "\n",
    "def fetch_transactions(min_round, max_round, limit=1000):\n",
    "    transactions = []\n",
    "    next_token = None\n",
    "    while True:\n",
    "        try:\n",
    "            response = indexer_client.search_transactions(min_round=min_round, max_round=max_round, limit=limit, next_page=next_token)\n",
    "            transactions_batch = response.get('transactions', [])\n",
    "            transactions.extend(transactions_batch)\n",
    "            next_token = response.get('next-token', None)\n",
    "            if next_token is None or not transactions_batch:\n",
    "                break\n",
    "        except Exception as e:\n",
    "            print(f\"An error occurred: {e}\")\n",
    "            break\n",
    "    return transactions\n",
    "\n",
    "# Fetch transactions from round x to the current round\n",
    "# 60 / 3.6 = 16.6666 transactions per minute based on the 3.6s block time we round down to 15\n",
    "# 15 * 60 * 24 = 21600 transactions per day\n",
    "transactions = fetch_transactions(get_current_round()-5, get_current_round())\n",
    "len(transactions)"
   ]
  },
  {
   "cell_type": "code",
   "execution_count": 10,
   "metadata": {},
   "outputs": [],
   "source": [
    "import networkx as nx\n",
    "\n",
    "def build_network(transactions):\n",
    "    G = nx.DiGraph()  # Directed graph to capture the direction of transactions\n",
    "\n",
    "    for txn in transactions:\n",
    "        sender = txn.get('sender')\n",
    "        receiver = txn.get('payment-transaction', {}).get('receiver')\n",
    "\n",
    "        if sender and receiver:\n",
    "            if G.has_edge(sender, receiver):\n",
    "                G[sender][receiver]['weight'] += 1\n",
    "            else:\n",
    "                G.add_edge(sender, receiver, weight=1)\n",
    "\n",
    "    return G\n",
    "\n",
    "G = build_network(transactions)\n"
   ]
  },
  {
   "cell_type": "code",
   "execution_count": 11,
   "metadata": {},
   "outputs": [
    {
     "name": "stdout",
     "output_type": "stream",
     "text": [
      "Top 5 nodes by degree centrality:\n",
      "[('YHIYCCBE3Y72Z5DIHQFBBPL4PN2PJ7OWXEE53XYPAR7EETR5GQV4UHFHOE', 0.5555555555555556), ('5SFNTQF5WA7GWS5RQEDZRNQ22GTAPBTLGIQDOBKOSWVT7YOOVKHVMC4Q4U', 0.16666666666666666), ('HILOLPDRG7G3SMH3FH3BTK6CUR57YHOY5H752PCDVVDN42SJSO5B53M3WE', 0.05555555555555555), ('QYXDGS2XJJT7QNR6EJ2YHNZFONU6ROFM6BKTBNVT63ZXQ5OC6IYSPNDJ4U', 0.05555555555555555), ('H6BWVBLLPFF3XF7EG37AKEPUEXAV5TD2NWS6SOB4CCKXDO56A6QAPZLYPQ', 0.05555555555555555)]\n",
      "\n",
      "Top 5 nodes by betweenness centrality:\n",
      "[('5SFNTQF5WA7GWS5RQEDZRNQ22GTAPBTLGIQDOBKOSWVT7YOOVKHVMC4Q4U', 0.0), ('HILOLPDRG7G3SMH3FH3BTK6CUR57YHOY5H752PCDVVDN42SJSO5B53M3WE', 0.0), ('QYXDGS2XJJT7QNR6EJ2YHNZFONU6ROFM6BKTBNVT63ZXQ5OC6IYSPNDJ4U', 0.0), ('H6BWVBLLPFF3XF7EG37AKEPUEXAV5TD2NWS6SOB4CCKXDO56A6QAPZLYPQ', 0.0), ('CLNJRWDFUZOPDPFDG6Y4KCCGLLOKS7UWGEFKFMTU36UHSV4ZJ2LWBM6C2Y', 0.0)]\n",
      "\n",
      "Top 5 nodes by closeness centrality:\n",
      "[('YHIYCCBE3Y72Z5DIHQFBBPL4PN2PJ7OWXEE53XYPAR7EETR5GQV4UHFHOE', 0.5555555555555556), ('HILOLPDRG7G3SMH3FH3BTK6CUR57YHOY5H752PCDVVDN42SJSO5B53M3WE', 0.05555555555555555), ('H6BWVBLLPFF3XF7EG37AKEPUEXAV5TD2NWS6SOB4CCKXDO56A6QAPZLYPQ', 0.05555555555555555), ('CLNJRWDFUZOPDPFDG6Y4KCCGLLOKS7UWGEFKFMTU36UHSV4ZJ2LWBM6C2Y', 0.05555555555555555), ('XGE65UPXAFATPMTKGPA2VNHLMDY2URHD7NNPI3XJ3ZOXEAU6E4ZGH7PWZY', 0.05555555555555555)]\n",
      "\n",
      "Top 5 nodes by eigenvector centrality:\n",
      "[('YHIYCCBE3Y72Z5DIHQFBBPL4PN2PJ7OWXEE53XYPAR7EETR5GQV4UHFHOE', 0.975761251699969), ('HILOLPDRG7G3SMH3FH3BTK6CUR57YHOY5H752PCDVVDN42SJSO5B53M3WE', 0.09786585962282791), ('H6BWVBLLPFF3XF7EG37AKEPUEXAV5TD2NWS6SOB4CCKXDO56A6QAPZLYPQ', 0.09786585962282791), ('CLNJRWDFUZOPDPFDG6Y4KCCGLLOKS7UWGEFKFMTU36UHSV4ZJ2LWBM6C2Y', 0.09786585962282791), ('XGE65UPXAFATPMTKGPA2VNHLMDY2URHD7NNPI3XJ3ZOXEAU6E4ZGH7PWZY', 0.09786585962282791)]\n"
     ]
    }
   ],
   "source": [
    "# Compute centrality measures\n",
    "degree_centrality = nx.degree_centrality(G)\n",
    "betweenness_centrality = nx.betweenness_centrality(G, weight='weight')\n",
    "closeness_centrality = nx.closeness_centrality(G)\n",
    "eigenvector_centrality = nx.eigenvector_centrality(G, max_iter=1000)\n",
    "\n",
    "# Print the top 5 nodes for each centrality measure\n",
    "print(\"Top 5 nodes by degree centrality:\")\n",
    "print(sorted(degree_centrality.items(), key=lambda x: x[1], reverse=True)[:5])\n",
    "\n",
    "print(\"\\nTop 5 nodes by betweenness centrality:\")\n",
    "print(sorted(betweenness_centrality.items(), key=lambda x: x[1], reverse=True)[:5])\n",
    "\n",
    "print(\"\\nTop 5 nodes by closeness centrality:\")\n",
    "print(sorted(closeness_centrality.items(), key=lambda x: x[1], reverse=True)[:5])\n",
    "\n",
    "print(\"\\nTop 5 nodes by eigenvector centrality:\")\n",
    "print(sorted(eigenvector_centrality.items(), key=lambda x: x[1], reverse=True)[:5])\n"
   ]
  }
 ],
 "metadata": {
  "kernelspec": {
   "display_name": ".venv",
   "language": "python",
   "name": "python3"
  },
  "language_info": {
   "codemirror_mode": {
    "name": "ipython",
    "version": 3
   },
   "file_extension": ".py",
   "mimetype": "text/x-python",
   "name": "python",
   "nbconvert_exporter": "python",
   "pygments_lexer": "ipython3",
   "version": "3.10.9"
  }
 },
 "nbformat": 4,
 "nbformat_minor": 2
}
